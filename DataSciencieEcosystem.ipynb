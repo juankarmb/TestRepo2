{
 "cells": [
  {
   "cell_type": "markdown",
   "id": "a0b2b85d-7a3e-4197-a00b-092e51773dc0",
   "metadata": {},
   "source": [
    "# Data Science Tools and Ecosystem"
   ]
  },
  {
   "cell_type": "markdown",
   "id": "d6888974-4ecf-4a61-95a2-f9764134994d",
   "metadata": {},
   "source": [
    "En este cuaderno, se resumen las herramientas y ecosistemas de ciencia de datos."
   ]
  },
  {
   "cell_type": "markdown",
   "id": "ffa45b9f-4c26-4e88-aa8d-d1c41b594a3f",
   "metadata": {},
   "source": [
    "Algunos de los lenguajes populares que utilizan los científicos de datos son:\n",
    "1. SQL\n",
    "2. Python\n",
    "3. R\n",
    "4. Java\n",
    "5. C++"
   ]
  },
  {
   "cell_type": "markdown",
   "id": "545e108d-7e5d-42e3-bded-8c3d432a5a12",
   "metadata": {},
   "source": [
    "Algunas de las bibliotecas comúnmente utilizadas por los científicos de datos incluyen:\n",
    "1. numpy\n",
    "2. pandas\n",
    "3. ggplot\n",
    "4. matplotlib"
   ]
  },
  {
   "cell_type": "markdown",
   "id": "a79d5895-d80c-418a-9cb4-1fb4f89e3be9",
   "metadata": {},
   "source": [
    "|Herramientas de Ciencia de Datos|\n",
    "|----------------|\n",
    "| Power BI|\n",
    "|Jupyter Notebook|\n",
    "|Rstudio|\n",
    "|Google Colab|\n"
   ]
  },
  {
   "cell_type": "markdown",
   "id": "7c4e2b77-e839-4698-a679-d02780db2e3e",
   "metadata": {},
   "source": [
    "### A continuación, se presentan algunos ejemplos de valuación de expresiones aritméticas en Python."
   ]
  },
  {
   "cell_type": "code",
   "execution_count": 2,
   "id": "390f19e2-cab4-44b6-aac7-c1c082aec723",
   "metadata": {},
   "outputs": [
    {
     "data": {
      "text/plain": [
       "17"
      ]
     },
     "execution_count": 2,
     "metadata": {},
     "output_type": "execute_result"
    }
   ],
   "source": [
    "# Esta es una expresión aritmética simple para multiplicar y luego sumar enteros\n",
    "(3*4)+5"
   ]
  },
  {
   "cell_type": "code",
   "execution_count": 3,
   "id": "db50dad0-277d-42c3-a5b8-01f80fa8bbef",
   "metadata": {},
   "outputs": [
    {
     "data": {
      "text/plain": [
       "3.3333333333333335"
      ]
     },
     "execution_count": 3,
     "metadata": {},
     "output_type": "execute_result"
    }
   ],
   "source": [
    "## Esto convertirá 200 minutos a horas dividiendo por 60\n",
    "200/60"
   ]
  },
  {
   "cell_type": "markdown",
   "id": "c793238b-478a-4c30-b49a-bdb7069fd716",
   "metadata": {},
   "source": [
    "__Objetivos:__\n",
    "- Listar lenguajes populares para Ciencia de Datos\n",
    "- Trabajar con Jupyter Notebook\n",
    "- Listar las principales bibliotecas de Ciencia de Datos\n",
    "- Realizar operaciones Aritméticas\n",
    "- Listar las principales herramientas de Ciencia de Datos"
   ]
  },
  {
   "cell_type": "markdown",
   "id": "04538950-8325-47ac-a0f6-5dc2e94284ce",
   "metadata": {},
   "source": [
    "##  Autor\n",
    "Juan Carlos Monje"
   ]
  },
  {
   "cell_type": "code",
   "execution_count": null,
   "id": "b9476ab4-1af2-495b-9643-3ff20286dd02",
   "metadata": {},
   "outputs": [],
   "source": []
  }
 ],
 "metadata": {
  "kernelspec": {
   "display_name": "Python 3 (ipykernel)",
   "language": "python",
   "name": "python3"
  },
  "language_info": {
   "codemirror_mode": {
    "name": "ipython",
    "version": 3
   },
   "file_extension": ".py",
   "mimetype": "text/x-python",
   "name": "python",
   "nbconvert_exporter": "python",
   "pygments_lexer": "ipython3",
   "version": "3.13.5"
  }
 },
 "nbformat": 4,
 "nbformat_minor": 5
}
